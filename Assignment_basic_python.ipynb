{
 "cells": [
  {
   "cell_type": "code",
   "execution_count": 3,
   "id": "7080932d-323b-423a-a288-f66c4f5fe787",
   "metadata": {},
   "outputs": [
    {
     "name": "stdout",
     "output_type": "stream",
     "text": [
      "['Mercury', 'Venus', 'Earth', 'Mars', 'Jupiter', 'Saturn', 'Uranus', 'Neptune']\n"
     ]
    },
    {
     "data": {
      "text/plain": [
       "list"
      ]
     },
     "execution_count": 3,
     "metadata": {},
     "output_type": "execute_result"
    }
   ],
   "source": [
    "# Part I: Lists and Loops¶\n",
    "# 1) Create a list with the names of every planet in the solar system (in order)\n",
    "\n",
    "planets = ['Mercury', 'Venus', 'Earth', 'Mars', 'Jupiter', 'Saturn', 'Uranus', 'Neptune']\n",
    "print(planets)\n",
    "type(planets)"
   ]
  },
  {
   "cell_type": "code",
   "execution_count": 5,
   "id": "87e81bfe-1ebe-4cfd-b74b-e19e68dc5f14",
   "metadata": {},
   "outputs": [
    {
     "data": {
      "text/plain": [
       "8"
      ]
     },
     "execution_count": 5,
     "metadata": {},
     "output_type": "execute_result"
    }
   ],
   "source": [
    "# 2) Have Python tell you how many planets there are by examining your list\n",
    "\n",
    "len(planets)"
   ]
  },
  {
   "cell_type": "code",
   "execution_count": 7,
   "id": "3598c6e0-9c2a-4b9b-bd85-25892e240802",
   "metadata": {},
   "outputs": [
    {
     "data": {
      "text/plain": [
       "['Mercury', 'Venus', 'Earth', 'Mars']"
      ]
     },
     "execution_count": 7,
     "metadata": {},
     "output_type": "execute_result"
    }
   ],
   "source": [
    "# 3) Use slicing to display the first four planets (the rocky planets)\n",
    "\n",
    "planets[0:4]"
   ]
  },
  {
   "cell_type": "code",
   "execution_count": 88,
   "id": "6587385b-bc18-44c5-a9f4-53a9a3c108a9",
   "metadata": {},
   "outputs": [
    {
     "name": "stdout",
     "output_type": "stream",
     "text": [
      "Venus\n",
      "Mars\n",
      "Uranus\n"
     ]
    }
   ],
   "source": [
    "# 4) Iterate through your planets and print the planet name only if it has an s at the end\n",
    "\n",
    "for i in range(len(planets)):\n",
    "    for j in range(len(planets[i])):    \n",
    "        if 's' in planets[i][j]:\n",
    "            print(planets[i])"
   ]
  },
  {
   "cell_type": "code",
   "execution_count": 7,
   "id": "545d4f57-cd11-448c-9d13-245c54e9c75b",
   "metadata": {},
   "outputs": [
    {
     "name": "stdout",
     "output_type": "stream",
     "text": [
      "{'Mercury': 0.33, 'Venus': 4.87, 'Earth': 5.97, 'Mars': 0.073, 'Jupiter': 0.642, 'Saturn': 1898, 'Uranus': 568, 'Neptune': 86.8}\n"
     ]
    },
    {
     "data": {
      "text/plain": [
       "dict"
      ]
     },
     "execution_count": 7,
     "metadata": {},
     "output_type": "execute_result"
    }
   ],
   "source": [
    "# Part II: Dictionaries\n",
    "# 1) Now create a dictionary that maps each planet name to its mass\n",
    "\n",
    "mass = [0.330,4.87,5.97,0.073,0.642,1898,568,86.8,102]\n",
    "\n",
    "planet_dict = dict(zip(planets, mass))\n",
    "\n",
    "print(planet_dict)\n",
    "type(planet_dict)"
   ]
  },
  {
   "cell_type": "code",
   "execution_count": 11,
   "id": "63508b36-fb09-4db3-8997-0e42494a7361",
   "metadata": {},
   "outputs": [
    {
     "name": "stdout",
     "output_type": "stream",
     "text": [
      "4.87\n"
     ]
    }
   ],
   "source": [
    "# 2) Use your dictionary to look up Earth’s mass¶\n",
    "\n",
    "print(planet_dict['Earth'])"
   ]
  },
  {
   "cell_type": "code",
   "execution_count": 36,
   "id": "8086babc-7ddb-45a4-b805-2e0716c8f26f",
   "metadata": {},
   "outputs": [
    {
     "name": "stdout",
     "output_type": "stream",
     "text": [
      "1898\n",
      "568\n"
     ]
    }
   ],
   "source": [
    "# 3) Loop through the data and create a list of planets whose mast is greater than 100 x 10^24 kg\n",
    "\n",
    "for i in planet_dict:\n",
    "    if planet_dict[i] >100:\n",
    "        print(planet_dict[i])\n",
    "\n",
    "# Alternative: print([planet_dict[i] for i in planet_dict if planet_dict[i] > 100]) # prints [5]"
   ]
  },
  {
   "cell_type": "code",
   "execution_count": 39,
   "id": "c5cf428e-59bb-449e-a1f3-13215a02f273",
   "metadata": {},
   "outputs": [
    {
     "name": "stdout",
     "output_type": "stream",
     "text": [
      "{'Mercury': 0.33, 'Venus': 4.87, 'Earth': 5.97, 'Mars': 0.073, 'Jupiter': 0.642, 'Saturn': 1898, 'Uranus': 568, 'Neptune': 86.8, 'Pluto': 0.013}\n"
     ]
    }
   ],
   "source": [
    "# 4) Now add pluto to your dictionary\n",
    "planet_dict['Pluto'] = 0.013\n",
    "print(planet_dict)"
   ]
  },
  {
   "cell_type": "code",
   "execution_count": 67,
   "id": "4bc8e592-e078-49eb-8490-f2035d90d927",
   "metadata": {},
   "outputs": [],
   "source": [
    "# Part III: Functions\n",
    "# 1. Write a function to convert temperature from kelvin to celsius\n",
    "def k_to_c(kelvin):\n",
    "     return (kelvin - 273.15)"
   ]
  },
  {
   "cell_type": "code",
   "execution_count": 70,
   "id": "5302b58c-ecc7-4898-b8e2-7793857c114a",
   "metadata": {},
   "outputs": [],
   "source": [
    "# 2. Write a function to convert temperature to fahrenheit\n",
    "def temp_to_f(temp, input_in_celcius=True):\n",
    "    if input_in_celcius:\n",
    "        fahrenheit = (temp*(9/5))+32\n",
    "    else:\n",
    "        fahrenheit = (k_to_c(temp)*(9/5))+32\n",
    "    return fahrenheit"
   ]
  },
  {
   "cell_type": "code",
   "execution_count": 73,
   "id": "255eef53-b5af-4a9f-b00e-657a1c14fe16",
   "metadata": {},
   "outputs": [
    {
     "name": "stdout",
     "output_type": "stream",
     "text": [
      "32.0\n",
      "32.0\n"
     ]
    }
   ],
   "source": [
    "# 3) Check that the outputs are sensible\n",
    "print(temp_to_f(0,celcius=True))\n",
    "print(temp_to_f(273.15,celcius=False))"
   ]
  },
  {
   "cell_type": "code",
   "execution_count": 81,
   "id": "a2cc2a09-fa10-4cb5-ab1f-39a4c21ed3b9",
   "metadata": {},
   "outputs": [],
   "source": [
    "# 4) Now write a function that converts from farenheit\n",
    "def f_to_temp(farenheit, output_in_celcius=True):\n",
    "    if output_in_celcius:\n",
    "        temp = ((farenheit-32)*(5/9))\n",
    "    else:\n",
    "        temp = ((farenheit-32)*(5/9)+273.15)\n",
    "    return temp\n",
    "\n",
    "# Testing:\n",
    "print(f_to_temp(32, output_in_celcius=True))\n",
    "print(f_to_temp(32, output_in_celcius=False))"
   ]
  },
  {
   "cell_type": "code",
   "execution_count": 86,
   "id": "956ce49f-1cb7-4254-b0e7-d8786ad0f667",
   "metadata": {},
   "outputs": [
    {
     "name": "stdout",
     "output_type": "stream",
     "text": [
      "0.3302\n"
     ]
    }
   ],
   "source": [
    "# 5) Write a function that takes two arguments (feet and inches) and returns height in meters\n",
    "def imp_to_metr(feet,inches):\n",
    "    return (feet*0.3048)+(inches*0.0254)\n",
    "\n",
    "# Testing\n",
    "print(imp_to_metr(1,1))"
   ]
  },
  {
   "cell_type": "code",
   "execution_count": 95,
   "id": "c7b00e55-6925-4a14-a104-818ed47b8fc1",
   "metadata": {},
   "outputs": [],
   "source": [
    "# 6) Write a function takes one argument (height in meters) and returns two arguments (feet and inches)\n",
    "import math\n",
    "\n",
    "def metr_to_imp(meters):\n",
    "    feet=meters/0.3048\n",
    "    inches= round((feet-math.floor(feet))*12)\n",
    "    height=[math.floor(feet),inches]\n",
    "    return height\n"
   ]
  },
  {
   "cell_type": "code",
   "execution_count": 104,
   "id": "0c73ec82-c0f5-4cd7-a7b2-6b50dd06be81",
   "metadata": {},
   "outputs": [
    {
     "name": "stdout",
     "output_type": "stream",
     "text": [
      "[5, 11]\n",
      "1.8542000000000003\n"
     ]
    }
   ],
   "source": [
    "# 7) Verify that the “round trip” conversion from and back to meters is consistent\n",
    "print(metr_to_imp(1.8))\n",
    "print(imp_to_metr(6,1))"
   ]
  }
 ],
 "metadata": {
  "kernelspec": {
   "display_name": "Python 3 (ipykernel)",
   "language": "python",
   "name": "python3"
  },
  "language_info": {
   "codemirror_mode": {
    "name": "ipython",
    "version": 3
   },
   "file_extension": ".py",
   "mimetype": "text/x-python",
   "name": "python",
   "nbconvert_exporter": "python",
   "pygments_lexer": "ipython3",
   "version": "3.10.6"
  }
 },
 "nbformat": 4,
 "nbformat_minor": 5
}
