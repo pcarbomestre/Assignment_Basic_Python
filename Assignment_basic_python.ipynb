{
 "cells": [
  {
   "cell_type": "code",
   "execution_count": 77,
   "id": "7080932d-323b-423a-a288-f66c4f5fe787",
   "metadata": {},
   "outputs": [
    {
     "name": "stdout",
     "output_type": "stream",
     "text": [
      "['Mercury', 'Venus', 'Earth', 'Mars', 'Jupiter', 'Saturn', 'Uranus', 'Neptune']\n"
     ]
    },
    {
     "data": {
      "text/plain": [
       "list"
      ]
     },
     "execution_count": 77,
     "metadata": {},
     "output_type": "execute_result"
    }
   ],
   "source": [
    "# Part I: Lists and Loops¶\n",
    "# 1) Create a list with the names of every planet in the solar system (in order)\n",
    "\n",
    "planets = ['Mercury', 'Venus', 'Earth', 'Mars', 'Jupiter', 'Saturn', 'Uranus', 'Neptune']\n",
    "print(planets)\n",
    "type(planets)"
   ]
  },
  {
   "cell_type": "code",
   "execution_count": 5,
   "id": "87e81bfe-1ebe-4cfd-b74b-e19e68dc5f14",
   "metadata": {},
   "outputs": [
    {
     "data": {
      "text/plain": [
       "8"
      ]
     },
     "execution_count": 5,
     "metadata": {},
     "output_type": "execute_result"
    }
   ],
   "source": [
    "# 2) Have Python tell you how many planets there are by examining your list\n",
    "\n",
    "len(planets)"
   ]
  },
  {
   "cell_type": "code",
   "execution_count": 7,
   "id": "3598c6e0-9c2a-4b9b-bd85-25892e240802",
   "metadata": {},
   "outputs": [
    {
     "data": {
      "text/plain": [
       "['Mercury', 'Venus', 'Earth', 'Mars']"
      ]
     },
     "execution_count": 7,
     "metadata": {},
     "output_type": "execute_result"
    }
   ],
   "source": [
    "# 3) Use slicing to display the first four planets (the rocky planets)\n",
    "\n",
    "planets[0:4]"
   ]
  },
  {
   "cell_type": "code",
   "execution_count": 88,
   "id": "6587385b-bc18-44c5-a9f4-53a9a3c108a9",
   "metadata": {},
   "outputs": [
    {
     "name": "stdout",
     "output_type": "stream",
     "text": [
      "Venus\n",
      "Mars\n",
      "Uranus\n"
     ]
    }
   ],
   "source": [
    "# 4) Iterate through your planets and print the planet name only if it has an s at the end\n",
    "\n",
    "for i in range(len(planets)):\n",
    "    for j in range(len(planets[i])):    \n",
    "        if 's' in planets[i][j]:\n",
    "            print(planets[i])"
   ]
  }
 ],
 "metadata": {
  "kernelspec": {
   "display_name": "Python 3 (ipykernel)",
   "language": "python",
   "name": "python3"
  },
  "language_info": {
   "codemirror_mode": {
    "name": "ipython",
    "version": 3
   },
   "file_extension": ".py",
   "mimetype": "text/x-python",
   "name": "python",
   "nbconvert_exporter": "python",
   "pygments_lexer": "ipython3",
   "version": "3.10.6"
  }
 },
 "nbformat": 4,
 "nbformat_minor": 5
}
